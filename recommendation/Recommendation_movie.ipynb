{
 "cells": [
  {
   "cell_type": "code",
   "execution_count": 1,
   "id": "8dc3919e",
   "metadata": {},
   "outputs": [],
   "source": [
    "%matplotlib inline\n",
    "import matplotlib.pyplot as plt\n",
    "from matplotlib import font_manager, rc\n",
    "from math import sqrt\n",
    "# # Windows\n",
    "# font_name = font_manager.FontProperties(fname=\"c:/Windows/Fonts/malgun.ttf\").get_name()\n",
    "# rc('font', family=font_name)\n",
    "# MacOS\n",
    "font_name = font_manager.FontProperties(fname='/System/Library/Fonts/Supplemental/AppleGothic.ttf') \\\n",
    "                .get_name()\n",
    "rc('font', family=font_name)"
   ]
  },
  {
   "cell_type": "code",
   "execution_count": null,
   "id": "3dbd1b57",
   "metadata": {},
   "outputs": [],
   "source": [
    "from ratings import ratings\n",
    "ratings"
   ]
  },
  {
   "cell_type": "code",
   "execution_count": 3,
   "id": "9763a4c0",
   "metadata": {},
   "outputs": [],
   "source": [
    "def draw_chart(data, name1, name2):\n",
    "    plt.figure(figsize=(8, 5))\n",
    "    x_ratings = []\n",
    "    y_ratings = []\n",
    "    for i in ratings[name1]: # i = 키값 \n",
    "        if i in data[name2]: # 같은 영화를 평가했을때만 처리 \n",
    "            x_ratings.append(ratings[name1][i])\n",
    "            y_ratings.append(ratings[name2][i])\n",
    "            plt.text(ratings[name1][i], ratings[name2][i], i) # 영화 제목을 text로 출력 \n",
    "    plt.plot(x_ratings, y_ratings, 'g^')\n",
    "    plt.axis([0,6,0,6])\n",
    "    plt.xlabel(name1)\n",
    "    plt.ylabel(name2)\n",
    "    plt.show()"
   ]
  },
  {
   "cell_type": "code",
   "execution_count": 12,
   "id": "c637b870",
   "metadata": {},
   "outputs": [
    {
     "data": {
      "image/png": "[encoded data removed]",
      "text/plain": [
       "<Figure size 576x360 with 1 Axes>"
      ]
     },
     "metadata": {
      "needs_background": "light"
     },
     "output_type": "display_data"
    }
   ],
   "source": [
    "draw_chart(ratings, 'user5', 'user8')"
   ]
  },
  {
   "cell_type": "code",
   "execution_count": 9,
   "id": "0264d5f8",
   "metadata": {},
   "outputs": [],
   "source": [
    "def pearson_correlation_coefficient(data, name1, name2):\n",
    "    sumX = 0 # X의 합\n",
    "    sumY = 0 # Y의 합\n",
    "    sumPowX = 0 # X 제곱의 \n",
    "    sumPowY = 0 # Y 제곱의 합\n",
    "    sumXY = 0 # X * Y의 합\n",
    "    count = 0 # 평점을 준 영화 개수 \n",
    "    \n",
    "    for movie in data[name1]: #i = key \n",
    "        if movie in data[name2]: # 같은 영화를 평가 했을때만 처리 \n",
    "            sumX += data[name1][movie]\n",
    "            sumY += data[name2][movie]\n",
    "            sumPowX += pow(data[name1][movie], 2)\n",
    "            sumPowY += pow(data[name2][movie], 2)\n",
    "            sumXY += data[name1][movie] * data[name2][movie]\n",
    "            count += 1\n",
    "    \n",
    "    return (sumXY - ((sumX * sumY) / count) ) / sqrt((sumPowX - (pow(sumX,2) / count)) * (sumPowY - (pow(sumY,2) / count)))"
   ]
  },
  {
   "cell_type": "code",
   "execution_count": 10,
   "id": "dbe02e63",
   "metadata": {},
   "outputs": [
    {
     "data": {
      "text/plain": [
       "0.4950737714883372"
      ]
     },
     "execution_count": 10,
     "metadata": {},
     "output_type": "execute_result"
    }
   ],
   "source": [
    "pearson_correlation_coefficient(ratings, 'user1', 'user3')"
   ]
  },
  {
   "cell_type": "code",
   "execution_count": 11,
   "id": "87d78f65",
   "metadata": {},
   "outputs": [
    {
     "data": {
      "text/plain": [
       "-0.9244734516419049"
      ]
     },
     "execution_count": 11,
     "metadata": {},
     "output_type": "execute_result"
    }
   ],
   "source": [
    "pearson_correlation_coefficient(ratings, 'user5', 'user8')"
   ]
  },
  {
   "cell_type": "code",
   "execution_count": 19,
   "id": "88a675a2",
   "metadata": {},
   "outputs": [],
   "source": [
    "def nearest_user(data, name, index=3):\n",
    "    result = []\n",
    "    for u in data:\n",
    "        if name != u:\n",
    "            result.append((pearson_correlation_coefficient(data, name, u), u))\n",
    "    \n",
    "    result.sort()\n",
    "    result.reverse()\n",
    "    \n",
    "    return result[:index]"
   ]
  },
  {
   "cell_type": "code",
   "execution_count": 20,
   "id": "75b73de3",
   "metadata": {},
   "outputs": [
    {
     "data": {
      "text/plain": [
       "[(0.9912407071619299, 'user8'),\n",
       " (0.8964214570007957, 'user7'),\n",
       " (0.7997092494906695, 'user9'),\n",
       " (0.4950737714883372, 'user3'),\n",
       " (0.13957263155977057, 'user6')]"
      ]
     },
     "execution_count": 20,
     "metadata": {},
     "output_type": "execute_result"
    }
   ],
   "source": [
    "nearest_user(ratings, 'user1', 5)"
   ]
  },
  {
   "cell_type": "markdown",
   "id": "6329aff5",
   "metadata": {},
   "source": [
    "#### SciPy pearsonr 함수 사용"
   ]
  },
  {
   "cell_type": "code",
   "execution_count": 23,
   "id": "6cf087ba",
   "metadata": {},
   "outputs": [
    {
     "name": "stdout",
     "output_type": "stream",
     "text": [
      "(0.4950737714883372, 0.3180601480969472)\n",
      "(-0.29887031841660666, 0.6252100234026372)\n"
     ]
    }
   ],
   "source": [
    "user1 = [2.5,3.5,3.0,3.5,2.5,3.0]\n",
    "user3 = [3.0,3.5,1.5,5.0,3.0,3.5]\n",
    "user5 = [3.5,3.0,4.5,4.0,2.5]\n",
    "user9 = [3.7,4.0,3.0,4.9,4.1]\n",
    "import scipy.stats as stats\n",
    "corr1 = stats.pearsonr(user1, user3)\n",
    "corr2 = stats.pearsonr(user5, user9)\n",
    "print(corr1)\n",
    "print(corr2)"
   ]
  },
  {
   "cell_type": "code",
   "execution_count": null,
   "id": "a860c34d",
   "metadata": {},
   "outputs": [],
   "source": []
  }
 ],
 "metadata": {
  "kernelspec": {
   "display_name": "Python 3 (ipykernel)",
   "language": "python",
   "name": "python3"
  },
  "language_info": {
   "codemirror_mode": {
    "name": "ipython",
    "version": 3
   },
   "file_extension": ".py",
   "mimetype": "text/x-python",
   "name": "python",
   "nbconvert_exporter": "python",
   "pygments_lexer": "ipython3",
   "version": "3.8.12"
  }
 },
 "nbformat": 4,
 "nbformat_minor": 5
}
