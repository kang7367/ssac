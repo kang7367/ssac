{
 "cells": [
  {
   "cell_type": "code",
   "execution_count": 2,
   "id": "2979f06f",
   "metadata": {},
   "outputs": [],
   "source": [
    "%matplotlib inline\n",
    "import matplotlib.pyplot as plt\n",
    "from matplotlib import font_manager, rc\n",
    "from math import sqrt"
   ]
  },
  {
   "cell_type": "code",
   "execution_count": 4,
   "id": "1d14247d",
   "metadata": {},
   "outputs": [],
   "source": [
    "# 한글 처리\n",
    "font_name = font_manager.FontProperties(fname='/System/Library/Fonts/Supplemental/AppleGothic.ttf') \\\n",
    "                .get_name()\n",
    "rc('font', family=font_name)"
   ]
  },
  {
   "cell_type": "code",
   "execution_count": 5,
   "id": "e6f8e683",
   "metadata": {},
   "outputs": [],
   "source": [
    "ratings = {\n",
    "    'user1': {'captain marvel':5, 'last mission':4, 'money':2},\n",
    "    'user2': {'captain marvel':4, 'last mission':2, 'money':1},\n",
    "    'me': {'last mission':4, 'money':3},\n",
    "    'user3': {'captain marvel':3.5, 'last mission':4, 'money':4}\n",
    "}"
   ]
  },
  {
   "cell_type": "code",
   "execution_count": 6,
   "id": "fa8ee325",
   "metadata": {},
   "outputs": [
    {
     "data": {
      "text/plain": [
       "{'last mission': 4, 'money': 3}"
      ]
     },
     "execution_count": 6,
     "metadata": {},
     "output_type": "execute_result"
    }
   ],
   "source": [
    "ratings['me']"
   ]
  },
  {
   "cell_type": "code",
   "execution_count": 7,
   "id": "6c038f3c",
   "metadata": {},
   "outputs": [
    {
     "data": {
      "text/plain": [
       "3"
      ]
     },
     "execution_count": 7,
     "metadata": {},
     "output_type": "execute_result"
    }
   ],
   "source": [
    "ratings['me']['money']"
   ]
  },
  {
   "cell_type": "code",
   "execution_count": 8,
   "id": "ffd2a741",
   "metadata": {},
   "outputs": [],
   "source": [
    "def similarity(i, j):\n",
    "    return sqrt(pow(i, 2) + pow(j ,2))"
   ]
  },
  {
   "cell_type": "code",
   "execution_count": null,
   "id": "2c9a60ec",
   "metadata": {},
   "outputs": [],
   "source": []
  }
 ],
 "metadata": {
  "kernelspec": {
   "display_name": "Python 3 (ipykernel)",
   "language": "python",
   "name": "python3"
  },
  "language_info": {
   "codemirror_mode": {
    "name": "ipython",
    "version": 3
   },
   "file_extension": ".py",
   "mimetype": "text/x-python",
   "name": "python",
   "nbconvert_exporter": "python",
   "pygments_lexer": "ipython3",
   "version": "3.8.12"
  }
 },
 "nbformat": 4,
 "nbformat_minor": 5
}
