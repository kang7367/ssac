{
 "cells": [
  {
   "cell_type": "code",
   "execution_count": 3,
   "id": "8017382a",
   "metadata": {},
   "outputs": [],
   "source": [
    "from tensorflow.keras.layers import Input, SimpleRNN, GRU, LSTM, Dense, Flatten, GlobalMaxPool1D\n",
    "from tensorflow.keras.models import Model\n",
    "from tensorflow.keras.optimizers import SGD, Adam\n",
    "\n",
    "import numpy as np\n",
    "import pandas as pd\n",
    "import matplotlib.pyplot as plt"
   ]
  },
  {
   "cell_type": "code",
   "execution_count": 4,
   "id": "4338e7cd",
   "metadata": {},
   "outputs": [],
   "source": [
    "### build the dataset\n",
    "# This is a nonlinear AND long-distance dataset\n",
    "# (Actually, we will test long-distance vs. short-distance patterns)\n",
    "\n",
    "# Start with a small T and increase it later.\n",
    "T = 10\n",
    "D = 1\n",
    "X = []\n",
    "Y = []\n",
    "\n",
    "def get_label(x, i1, i2, i3):\n",
    "  # x = sequence\n",
    "  if x[i1] < 0 and x[i2] < 0 and x[i3] < 0:\n",
    "    return 1\n",
    "  if x[i1] < 0 and x[i2] > 0 and x[i3] > 0:\n",
    "    return 1\n",
    "  if x[i1] > 0 and x[i2] < 0 and x[i3] > 0:\n",
    "    return 1\n",
    "  if x[i1] > 0 and x[i2] > 0 and x[i3] < 0:\n",
    "    return 1\n",
    "  return 0\n",
    "\n"
   ]
  },
  {
   "cell_type": "code",
   "execution_count": null,
   "id": "aa62d260",
   "metadata": {},
   "outputs": [],
   "source": []
  }
 ],
 "metadata": {
  "kernelspec": {
   "display_name": "Python 3 (ipykernel)",
   "language": "python",
   "name": "python3"
  },
  "language_info": {
   "codemirror_mode": {
    "name": "ipython",
    "version": 3
   },
   "file_extension": ".py",
   "mimetype": "text/x-python",
   "name": "python",
   "nbconvert_exporter": "python",
   "pygments_lexer": "ipython3",
   "version": "3.8.12"
  }
 },
 "nbformat": 4,
 "nbformat_minor": 5
}
