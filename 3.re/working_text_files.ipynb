{
 "cells": [
  {
   "cell_type": "markdown",
   "id": "6cfe3651",
   "metadata": {},
   "source": [
    "### Working with Text Files "
   ]
  },
  {
   "cell_type": "code",
   "execution_count": 1,
   "id": "8d30fa68",
   "metadata": {},
   "outputs": [
    {
     "name": "stdout",
     "output_type": "stream",
     "text": [
      "나의 이름은 Fred 입니다.\n",
      "나의 이름 Fred 입니다.\n"
     ]
    }
   ],
   "source": [
    "name = 'Fred'\n",
    "print('나의 이름은 {var} 입니다.'.format(var=name))\n",
    "print(f'나의 이름은 {name} 입니다.')"
   ]
  },
  {
   "cell_type": "code",
   "execution_count": 2,
   "id": "5bc481d3",
   "metadata": {},
   "outputs": [
    {
     "name": "stdout",
     "output_type": "stream",
     "text": [
      "주소: 123 456\n"
     ]
    }
   ],
   "source": [
    "d = {'a':123, 'b':456}\n",
    "print(f\"주소: {d['a']} {d['b']}\")"
   ]
  },
  {
   "cell_type": "code",
   "execution_count": 7,
   "id": "ae6e22c3",
   "metadata": {},
   "outputs": [],
   "source": [
    "library = [('Author', 'Topic', 'Pages'), ('이도원', 'Python Programming', 600), ('홍길동', 'Machien Learning', '400'), \n",
    "           ('SSAC', 'Deep Neural Networking', '745')]"
   ]
  },
  {
   "cell_type": "code",
   "execution_count": 8,
   "id": "acf5971e",
   "metadata": {},
   "outputs": [
    {
     "name": "stdout",
     "output_type": "stream",
     "text": [
      "Author     Topic                Pages               \n",
      "이도원        Python Programming                    600\n",
      "홍길동        Machien Learning     400                 \n",
      "SSAC       Deep Neural Networking 745                 \n"
     ]
    }
   ],
   "source": [
    "for book in library:\n",
    "    print(f'{book[0]:{10}} {book[1]:{20}} {book[2]:{20}}')"
   ]
  },
  {
   "cell_type": "code",
   "execution_count": 9,
   "id": "c3f9fd8b",
   "metadata": {},
   "outputs": [],
   "source": [
    "from datetime import datetime"
   ]
  },
  {
   "cell_type": "code",
   "execution_count": 10,
   "id": "677312ef",
   "metadata": {},
   "outputs": [
    {
     "name": "stdout",
     "output_type": "stream",
     "text": [
      "March 11, 2022\n"
     ]
    }
   ],
   "source": [
    "today = datetime(year=2022, month=3, day=11)\n",
    "print(f'{today:%B %d, %Y}')"
   ]
  },
  {
   "cell_type": "code",
   "execution_count": null,
   "id": "3b93e90f",
   "metadata": {},
   "outputs": [],
   "source": []
  }
 ],
 "metadata": {
  "kernelspec": {
   "display_name": "Python 3 (ipykernel)",
   "language": "python",
   "name": "python3"
  },
  "language_info": {
   "codemirror_mode": {
    "name": "ipython",
    "version": 3
   },
   "file_extension": ".py",
   "mimetype": "text/x-python",
   "name": "python",
   "nbconvert_exporter": "python",
   "pygments_lexer": "ipython3",
   "version": "3.8.12"
  }
 },
 "nbformat": 4,
 "nbformat_minor": 5
}
