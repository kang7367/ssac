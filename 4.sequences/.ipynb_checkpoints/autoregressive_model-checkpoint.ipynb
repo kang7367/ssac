{
 "cells": [
  {
   "cell_type": "code",
   "execution_count": null,
   "id": "35a87e31",
   "metadata": {},
   "outputs": [],
   "source": [
    "import tensorflow as tf \n",
    "tf.__version__"
   ]
  },
  {
   "cell_type": "code",
   "execution_count": null,
   "id": "fdfd8534",
   "metadata": {},
   "outputs": [],
   "source": [
    "from tensorflow.keras.layers import Input, Dense\n",
    "from tensorflow.keras.models import Model\n",
    "from tensorflow.keras.optimizers import SGD, Adam\n",
    "\n",
    "import numpy as np\n",
    "import pandas as pd \n",
    "import matplotlib.pyplot as plt"
   ]
  },
  {
   "cell_type": "code",
   "execution_count": null,
   "id": "8fcecbeb",
   "metadata": {},
   "outputs": [],
   "source": [
    "series = np.sin(0.1 * np.arange(200)) # + np.random.randn(200) * 0.1 "
   ]
  },
  {
   "cell_type": "code",
   "execution_count": null,
   "id": "6162ace8",
   "metadata": {},
   "outputs": [],
   "source": [
    "plt.plot(series)\n",
    "# plt.show()"
   ]
  },
  {
   "cell_type": "markdown",
   "id": "925fb3ed",
   "metadata": {},
   "source": [
    "### Build a dataset"
   ]
  },
  {
   "cell_type": "code",
   "execution_count": null,
   "id": "12ee2ae4",
   "metadata": {},
   "outputs": [],
   "source": [
    "T = 10\n",
    "X = []\n",
    "Y = []"
   ]
  },
  {
   "cell_type": "code",
   "execution_count": null,
   "id": "41858f0a",
   "metadata": {},
   "outputs": [],
   "source": [
    "for t in range(len(series) - T):\n",
    "    x = series[t : t+T]\n",
    "    X.append(x)\n",
    "    y = series[t+T]\n",
    "    Y.append(y)"
   ]
  },
  {
   "cell_type": "code",
   "execution_count": null,
   "id": "d00101dd",
   "metadata": {},
   "outputs": [],
   "source": [
    "X = np.array(X).reshape(-1 ,T)\n",
    "Y = np.array(Y)\n",
    "N = len(X)\n",
    "print(f\"X.shape:{X.shape}, Y.shape:{Y.shape}, N.length:{N}\")"
   ]
  },
  {
   "cell_type": "code",
   "execution_count": null,
   "id": "f00446a6",
   "metadata": {},
   "outputs": [],
   "source": [
    "# linear model\n",
    "i = Input(shape=(T, ))\n",
    "x = Dense(1)(i)\n",
    "\n",
    "model = Model(i, x)\n",
    "model.summary()"
   ]
  },
  {
   "cell_type": "code",
   "execution_count": null,
   "id": "2fe5d592",
   "metadata": {},
   "outputs": [],
   "source": [
    "model.compile(loss='mse', optimizer=Adam(lr=0.1))"
   ]
  },
  {
   "cell_type": "code",
   "execution_count": null,
   "id": "167b0862",
   "metadata": {},
   "outputs": [],
   "source": [
    "# train the model\n",
    "# X:학습데이터, Y:정답데이터, epochs=80, validation_data:검증 데이터 \n",
    "r = model.fit(X[:-N//2], Y[:-N//2], epochs=80, validation_data=(X[-N//2:], Y[-N//2:]))"
   ]
  },
  {
   "cell_type": "code",
   "execution_count": null,
   "id": "5be684d6",
   "metadata": {},
   "outputs": [],
   "source": [
    "plt.plot(r.history['loss'], label='loss')\n",
    "plt.plot(r.history['val_loss'], label='val_loss')\n",
    "plt.legend()"
   ]
  },
  {
   "cell_type": "markdown",
   "id": "af2e8669",
   "metadata": {},
   "source": [
    "### \"Wrong\" forecast usring true targets"
   ]
  },
  {
   "cell_type": "code",
   "execution_count": null,
   "id": "28facb40",
   "metadata": {},
   "outputs": [],
   "source": [
    "validation_target = Y[-N//2:]\n",
    "validation_predictions = []\n",
    "\n",
    "i = -N//2 \n",
    "while len(validation_predictions) < len(validation_target):\n",
    "    p = model.predict(X[i].reshape(1, -1))[0,0] # 1x1 array -> scalar\n",
    "    i += 1\n",
    "    \n",
    "    validation_predictions.append(p)"
   ]
  },
  {
   "cell_type": "code",
   "execution_count": null,
   "id": "214f9ce8",
   "metadata": {},
   "outputs": [],
   "source": [
    "plt.plot(validation_target, label='forecast_target')\n",
    "plt.plot(validation_predictions, label='forecast_prediction')\n",
    "plt.legend()"
   ]
  },
  {
   "cell_type": "code",
   "execution_count": null,
   "id": "b15c4159",
   "metadata": {},
   "outputs": [],
   "source": [
    "validation_target = Y[-N//2:]\n",
    "validation_predictions = []\n",
    "\n",
    "# last train input \n",
    "last_x = X[-N//2]"
   ]
  },
  {
   "cell_type": "code",
   "execution_count": null,
   "id": "d4efcfb9",
   "metadata": {},
   "outputs": [],
   "source": [
    "print(len(validation_target))\n",
    "print(last_x)"
   ]
  },
  {
   "cell_type": "code",
   "execution_count": null,
   "id": "2c1026f8",
   "metadata": {},
   "outputs": [],
   "source": [
    "print(last_x.reshape(1, -1))"
   ]
  },
  {
   "cell_type": "code",
   "execution_count": null,
   "id": "71ef4c8a",
   "metadata": {},
   "outputs": [],
   "source": [
    "print(model.predict(last_x.reshape(1, -1))[0,0])"
   ]
  },
  {
   "cell_type": "code",
   "execution_count": null,
   "id": "e81d05de",
   "metadata": {},
   "outputs": [],
   "source": [
    "while len(validation_predictions) < len(validation_target):\n",
    "    p = model.predict(last_x.reshape(1, -1))[0,0] # 1x1 array -> scalar\n",
    "    validation_predictions.append(p)\n",
    "    \n",
    "    last_x = np.roll(last_x, -1)\n",
    "    last_x[-1] = p"
   ]
  },
  {
   "cell_type": "code",
   "execution_count": 41,
   "id": "e551a0be",
   "metadata": {},
   "outputs": [
    {
     "data": {
      "text/plain": [
       "<matplotlib.legend.Legend at 0x7fc8e28a5ac0>"
      ]
     },
     "execution_count": 41,
     "metadata": {},
     "output_type": "execute_result"
    },
    {
     "data": {
      "image/png": "[encoded data removed]",
      "text/plain": [
       "<Figure size 432x288 with 1 Axes>"
      ]
     },
     "metadata": {
      "needs_background": "light"
     },
     "output_type": "display_data"
    }
   ],
   "source": [
    "plt.plot(validation_target, label='forecast_target')\n",
    "plt.plot(validation_predictions, label='forecast_prediction')\n",
    "plt.legend()"
   ]
  },
  {
   "cell_type": "markdown",
   "id": "5c47fda2",
   "metadata": {},
   "source": [
    "### Noise examples"
   ]
  },
  {
   "cell_type": "code",
   "execution_count": 43,
   "id": "4f1228fa",
   "metadata": {},
   "outputs": [
    {
     "data": {
      "image/png": "[encoded data removed]",
      "text/plain": [
       "<Figure size 432x288 with 1 Axes>"
      ]
     },
     "metadata": {
      "needs_background": "light"
     },
     "output_type": "display_data"
    }
   ],
   "source": [
    "series = np.sin(0.1 * np.arange(200)) + np.random.randn(200) * 0.1\n",
    "\n",
    "plt.plot(series)\n",
    "plt.show()"
   ]
  },
  {
   "cell_type": "code",
   "execution_count": null,
   "id": "f834c9ce",
   "metadata": {},
   "outputs": [],
   "source": []
  }
 ],
 "metadata": {
  "kernelspec": {
   "display_name": "Python 3 (ipykernel)",
   "language": "python",
   "name": "python3"
  },
  "language_info": {
   "codemirror_mode": {
    "name": "ipython",
    "version": 3
   },
   "file_extension": ".py",
   "mimetype": "text/x-python",
   "name": "python",
   "nbconvert_exporter": "python",
   "pygments_lexer": "ipython3",
   "version": "3.8.12"
  }
 },
 "nbformat": 4,
 "nbformat_minor": 5
}
