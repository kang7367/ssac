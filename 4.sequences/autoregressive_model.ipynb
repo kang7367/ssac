{
 "cells": [
  {
   "cell_type": "code",
   "execution_count": 1,
   "id": "cbc2cc60",
   "metadata": {},
   "outputs": [
    {
     "data": {
      "text/plain": [
       "'2.8.0'"
      ]
     },
     "execution_count": 1,
     "metadata": {},
     "output_type": "execute_result"
    }
   ],
   "source": [
    "import tensorflow as tf \n",
    "tf.__version__"
   ]
  },
  {
   "cell_type": "code",
   "execution_count": 2,
   "id": "8085a4f2",
   "metadata": {},
   "outputs": [],
   "source": [
    "from tensorflow.keras.layers import Input, Dense\n",
    "from tensorflow.keras.models import Model\n",
    "from tensorflow.keras.optimizers import SGD, Adam\n",
    "\n",
    "import numpy as np\n",
    "import pandas as pd \n",
    "import matplotlib.pyplot as plt"
   ]
  },
  {
   "cell_type": "code",
   "execution_count": 3,
   "id": "2347533d",
   "metadata": {},
   "outputs": [],
   "source": [
    "series = np.sin(0.1 * np.arange(200)) # + np.random.randn(200) * 0.1 "
   ]
  },
  {
   "cell_type": "code",
   "execution_count": 4,
   "id": "f50fc536",
   "metadata": {},
   "outputs": [
    {
     "data": {
      "text/plain": [
       "[<matplotlib.lines.Line2D at 0x7fdda2f012b0>]"
      ]
     },
     "execution_count": 4,
     "metadata": {},
     "output_type": "execute_result"
    },
    {
     "data": {
      "image/png": "[encoded data removed]",
      "text/plain": [
       "<Figure size 432x288 with 1 Axes>"
      ]
     },
     "metadata": {
      "needs_background": "light"
     },
     "output_type": "display_data"
    }
   ],
   "source": [
    "plt.plot(series)\n",
    "# plt.show()"
   ]
  },
  {
   "cell_type": "markdown",
   "id": "d8817155",
   "metadata": {},
   "source": [
    "### Build a dataset"
   ]
  },
  {
   "cell_type": "code",
   "execution_count": 5,
   "id": "99d8b51a",
   "metadata": {},
   "outputs": [],
   "source": [
    "T = 10\n",
    "X = []\n",
    "Y = []"
   ]
  },
  {
   "cell_type": "code",
   "execution_count": 6,
   "id": "6c8699ec",
   "metadata": {},
   "outputs": [],
   "source": [
    "for t in range(len(series) - T):\n",
    "    x = series[t : t+T]\n",
    "    X.append(x)\n",
    "    y = series[t+T]\n",
    "    Y.append(y)"
   ]
  },
  {
   "cell_type": "code",
   "execution_count": 7,
   "id": "96e8eea5",
   "metadata": {},
   "outputs": [
    {
     "name": "stdout",
     "output_type": "stream",
     "text": [
      "X.shape:(190, 10), Y.shape:(190,), N.length:190\n"
     ]
    }
   ],
   "source": [
    "X = np.array(X).reshape(-1 ,T)\n",
    "Y = np.array(Y)\n",
    "N = len(X)\n",
    "print(f\"X.shape:{X.shape}, Y.shape:{Y.shape}, N.length:{N}\")"
   ]
  },
  {
   "cell_type": "code",
   "execution_count": 8,
   "id": "9b6d791e",
   "metadata": {},
   "outputs": [
    {
     "name": "stdout",
     "output_type": "stream",
     "text": [
      "Model: \"model\"\n",
      "_________________________________________________________________\n",
      " Layer (type)                Output Shape              Param #   \n",
      "=================================================================\n",
      " input_1 (InputLayer)        [(None, 10)]              0         \n",
      "                                                                 \n",
      " dense (Dense)               (None, 1)                 11        \n",
      "                                                                 \n",
      "=================================================================\n",
      "Total params: 11\n",
      "Trainable params: 11\n",
      "Non-trainable params: 0\n",
      "_________________________________________________________________\n"
     ]
    },
    {
     "name": "stderr",
     "output_type": "stream",
     "text": [
      "2022-03-15 14:40:27.454900: I tensorflow/core/platform/cpu_feature_guard.cc:151] This TensorFlow binary is optimized with oneAPI Deep Neural Network Library (oneDNN) to use the following CPU instructions in performance-critical operations:  AVX2 FMA\n",
      "To enable them in other operations, rebuild TensorFlow with the appropriate compiler flags.\n"
     ]
    }
   ],
   "source": [
    "# linear model\n",
    "i = Input(shape=(T, ))\n",
    "x = Dense(1)(i)\n",
    "\n",
    "model = Model(i, x)\n",
    "model.summary()"
   ]
  },
  {
   "cell_type": "code",
   "execution_count": 9,
   "id": "4a5a2fc4",
   "metadata": {},
   "outputs": [
    {
     "name": "stderr",
     "output_type": "stream",
     "text": [
      "/opt/anaconda3/lib/python3.8/site-packages/keras/optimizer_v2/adam.py:105: UserWarning: The `lr` argument is deprecated, use `learning_rate` instead.\n",
      "  super(Adam, self).__init__(name, **kwargs)\n"
     ]
    }
   ],
   "source": [
    "model.compile(loss='mse', optimizer=Adam(lr=0.1))"
   ]
  },
  {
   "cell_type": "code",
   "execution_count": 10,
   "id": "a5c86d18",
   "metadata": {},
   "outputs": [
    {
     "name": "stdout",
     "output_type": "stream",
     "text": [
      "Epoch 1/80\n",
      "3/3 [==============================] - 0s 52ms/step - loss: 0.4187 - val_loss: 0.4577\n",
      "Epoch 2/80\n",
      "3/3 [==============================] - 0s 11ms/step - loss: 0.2259 - val_loss: 0.0801\n",
      "Epoch 3/80\n",
      "3/3 [==============================] - 0s 10ms/step - loss: 0.1019 - val_loss: 0.0653\n",
      "Epoch 4/80\n",
      "3/3 [==============================] - 0s 11ms/step - loss: 0.0327 - val_loss: 0.0289\n",
      "Epoch 5/80\n",
      "3/3 [==============================] - 0s 11ms/step - loss: 0.0483 - val_loss: 0.0195\n",
      "Epoch 6/80\n",
      "3/3 [==============================] - 0s 13ms/step - loss: 0.0231 - val_loss: 0.0331\n",
      "Epoch 7/80\n",
      "3/3 [==============================] - 0s 11ms/step - loss: 0.0428 - val_loss: 0.0201\n",
      "Epoch 8/80\n",
      "3/3 [==============================] - 0s 12ms/step - loss: 0.0227 - val_loss: 0.0219\n",
      "Epoch 9/80\n",
      "3/3 [==============================] - 0s 10ms/step - loss: 0.0153 - val_loss: 0.0074\n",
      "Epoch 10/80\n",
      "3/3 [==============================] - 0s 12ms/step - loss: 0.0069 - val_loss: 0.0124\n",
      "Epoch 11/80\n",
      "3/3 [==============================] - 0s 11ms/step - loss: 0.0043 - val_loss: 0.0014\n",
      "Epoch 12/80\n",
      "3/3 [==============================] - 0s 10ms/step - loss: 0.0036 - val_loss: 0.0046\n",
      "Epoch 13/80\n",
      "3/3 [==============================] - 0s 12ms/step - loss: 0.0035 - val_loss: 0.0059\n",
      "Epoch 14/80\n",
      "3/3 [==============================] - 0s 10ms/step - loss: 0.0053 - val_loss: 0.0034\n",
      "Epoch 15/80\n",
      "3/3 [==============================] - 0s 11ms/step - loss: 0.0022 - val_loss: 0.0017\n",
      "Epoch 16/80\n",
      "3/3 [==============================] - 0s 11ms/step - loss: 0.0014 - val_loss: 0.0012\n",
      "Epoch 17/80\n",
      "3/3 [==============================] - 0s 12ms/step - loss: 9.9689e-04 - val_loss: 6.1372e-04\n",
      "Epoch 18/80\n",
      "3/3 [==============================] - 0s 12ms/step - loss: 3.8034e-04 - val_loss: 9.9330e-04\n",
      "Epoch 19/80\n",
      "3/3 [==============================] - 0s 12ms/step - loss: 8.9925e-04 - val_loss: 5.8054e-04\n",
      "Epoch 20/80\n",
      "3/3 [==============================] - 0s 10ms/step - loss: 8.4205e-04 - val_loss: 4.1446e-04\n",
      "Epoch 21/80\n",
      "3/3 [==============================] - 0s 11ms/step - loss: 3.4228e-04 - val_loss: 3.8772e-04\n",
      "Epoch 22/80\n",
      "3/3 [==============================] - 0s 12ms/step - loss: 3.4944e-04 - val_loss: 1.8722e-04\n",
      "Epoch 23/80\n",
      "3/3 [==============================] - 0s 11ms/step - loss: 1.8265e-04 - val_loss: 8.8641e-05\n",
      "Epoch 24/80\n",
      "3/3 [==============================] - 0s 11ms/step - loss: 1.4810e-04 - val_loss: 4.3235e-04\n",
      "Epoch 25/80\n",
      "3/3 [==============================] - 0s 12ms/step - loss: 1.9760e-04 - val_loss: 1.3436e-04\n",
      "Epoch 26/80\n",
      "3/3 [==============================] - 0s 12ms/step - loss: 1.2612e-04 - val_loss: 4.9232e-05\n",
      "Epoch 27/80\n",
      "3/3 [==============================] - 0s 10ms/step - loss: 5.4392e-05 - val_loss: 1.9101e-05\n",
      "Epoch 28/80\n",
      "3/3 [==============================] - 0s 11ms/step - loss: 2.0866e-05 - val_loss: 3.4399e-05\n",
      "Epoch 29/80\n",
      "3/3 [==============================] - 0s 11ms/step - loss: 3.7304e-05 - val_loss: 3.7840e-05\n",
      "Epoch 30/80\n",
      "3/3 [==============================] - 0s 11ms/step - loss: 3.9831e-05 - val_loss: 2.1531e-05\n",
      "Epoch 31/80\n",
      "3/3 [==============================] - 0s 13ms/step - loss: 1.7611e-05 - val_loss: 2.8986e-05\n",
      "Epoch 32/80\n",
      "3/3 [==============================] - 0s 10ms/step - loss: 1.1948e-05 - val_loss: 4.4595e-06\n",
      "Epoch 33/80\n",
      "3/3 [==============================] - 0s 11ms/step - loss: 5.0282e-06 - val_loss: 3.2981e-06\n",
      "Epoch 34/80\n",
      "3/3 [==============================] - 0s 11ms/step - loss: 7.5584e-06 - val_loss: 9.6244e-06\n",
      "Epoch 35/80\n",
      "3/3 [==============================] - 0s 13ms/step - loss: 8.0424e-06 - val_loss: 8.1551e-06\n",
      "Epoch 36/80\n",
      "3/3 [==============================] - 0s 11ms/step - loss: 5.0654e-06 - val_loss: 6.4131e-06\n",
      "Epoch 37/80\n",
      "3/3 [==============================] - 0s 11ms/step - loss: 3.4049e-06 - val_loss: 6.6217e-07\n",
      "Epoch 38/80\n",
      "3/3 [==============================] - 0s 13ms/step - loss: 1.5475e-06 - val_loss: 9.7111e-07\n",
      "Epoch 39/80\n",
      "3/3 [==============================] - 0s 10ms/step - loss: 2.0963e-06 - val_loss: 1.6363e-06\n",
      "Epoch 40/80\n",
      "3/3 [==============================] - 0s 11ms/step - loss: 1.9007e-06 - val_loss: 1.7243e-06\n",
      "Epoch 41/80\n",
      "3/3 [==============================] - 0s 9ms/step - loss: 1.3426e-06 - val_loss: 2.3020e-06\n",
      "Epoch 42/80\n",
      "3/3 [==============================] - 0s 12ms/step - loss: 9.6901e-07 - val_loss: 2.1742e-07\n",
      "Epoch 43/80\n",
      "3/3 [==============================] - 0s 11ms/step - loss: 6.5986e-07 - val_loss: 7.0374e-07\n",
      "Epoch 44/80\n",
      "3/3 [==============================] - 0s 10ms/step - loss: 9.5103e-07 - val_loss: 5.2737e-07\n",
      "Epoch 45/80\n",
      "3/3 [==============================] - 0s 10ms/step - loss: 5.8670e-07 - val_loss: 5.6306e-07\n",
      "Epoch 46/80\n",
      "3/3 [==============================] - 0s 21ms/step - loss: 4.8907e-07 - val_loss: 7.2578e-07\n",
      "Epoch 47/80\n",
      "3/3 [==============================] - 0s 12ms/step - loss: 3.7102e-07 - val_loss: 4.6126e-07\n",
      "Epoch 48/80\n",
      "3/3 [==============================] - 0s 10ms/step - loss: 3.8268e-07 - val_loss: 1.2777e-07\n",
      "Epoch 49/80\n",
      "3/3 [==============================] - 0s 11ms/step - loss: 2.9459e-07 - val_loss: 8.1565e-08\n",
      "Epoch 50/80\n",
      "3/3 [==============================] - 0s 9ms/step - loss: 2.3079e-07 - val_loss: 5.1292e-08\n",
      "Epoch 51/80\n",
      "3/3 [==============================] - 0s 10ms/step - loss: 1.2578e-07 - val_loss: 4.7956e-08\n",
      "Epoch 52/80\n",
      "3/3 [==============================] - 0s 11ms/step - loss: 9.9001e-08 - val_loss: 1.5164e-07\n",
      "Epoch 53/80\n",
      "3/3 [==============================] - 0s 13ms/step - loss: 8.4282e-08 - val_loss: 9.4134e-08\n",
      "Epoch 54/80\n",
      "3/3 [==============================] - 0s 12ms/step - loss: 4.6203e-08 - val_loss: 4.3350e-08\n",
      "Epoch 55/80\n",
      "3/3 [==============================] - 0s 11ms/step - loss: 4.3963e-08 - val_loss: 3.1518e-08\n",
      "Epoch 56/80\n",
      "3/3 [==============================] - 0s 11ms/step - loss: 4.1436e-08 - val_loss: 3.8438e-08\n",
      "Epoch 57/80\n",
      "3/3 [==============================] - 0s 10ms/step - loss: 4.2770e-08 - val_loss: 1.3113e-08\n",
      "Epoch 58/80\n",
      "3/3 [==============================] - 0s 11ms/step - loss: 3.0169e-08 - val_loss: 7.0604e-09\n",
      "Epoch 59/80\n",
      "3/3 [==============================] - 0s 10ms/step - loss: 1.5874e-08 - val_loss: 8.7175e-09\n",
      "Epoch 60/80\n",
      "3/3 [==============================] - 0s 9ms/step - loss: 1.3259e-08 - val_loss: 9.1279e-09\n",
      "Epoch 61/80\n",
      "3/3 [==============================] - 0s 10ms/step - loss: 1.0481e-08 - val_loss: 1.0198e-08\n",
      "Epoch 62/80\n",
      "3/3 [==============================] - 0s 10ms/step - loss: 7.1689e-09 - val_loss: 9.8637e-09\n",
      "Epoch 63/80\n",
      "3/3 [==============================] - 0s 10ms/step - loss: 4.4915e-09 - val_loss: 1.0414e-08\n",
      "Epoch 64/80\n",
      "3/3 [==============================] - 0s 9ms/step - loss: 5.3557e-09 - val_loss: 6.1357e-09\n",
      "Epoch 65/80\n",
      "3/3 [==============================] - 0s 10ms/step - loss: 3.8965e-09 - val_loss: 3.5851e-09\n",
      "Epoch 66/80\n",
      "3/3 [==============================] - 0s 10ms/step - loss: 3.0160e-09 - val_loss: 2.2054e-09\n",
      "Epoch 67/80\n",
      "3/3 [==============================] - 0s 10ms/step - loss: 2.4506e-09 - val_loss: 2.0120e-09\n",
      "Epoch 68/80\n",
      "3/3 [==============================] - 0s 10ms/step - loss: 1.8288e-09 - val_loss: 1.2764e-09\n",
      "Epoch 69/80\n",
      "3/3 [==============================] - 0s 10ms/step - loss: 1.5332e-09 - val_loss: 3.8086e-10\n",
      "Epoch 70/80\n",
      "3/3 [==============================] - 0s 10ms/step - loss: 1.0827e-09 - val_loss: 1.4669e-10\n",
      "Epoch 71/80\n",
      "3/3 [==============================] - 0s 16ms/step - loss: 7.0178e-10 - val_loss: 2.4177e-11\n",
      "Epoch 72/80\n",
      "3/3 [==============================] - 0s 11ms/step - loss: 4.2370e-10 - val_loss: 1.2972e-10\n",
      "Epoch 73/80\n",
      "3/3 [==============================] - 0s 10ms/step - loss: 4.1234e-10 - val_loss: 1.1661e-11\n",
      "Epoch 74/80\n",
      "3/3 [==============================] - 0s 11ms/step - loss: 2.8333e-10 - val_loss: 3.1089e-11\n",
      "Epoch 75/80\n",
      "3/3 [==============================] - 0s 11ms/step - loss: 2.5109e-10 - val_loss: 4.6557e-12\n",
      "Epoch 76/80\n",
      "3/3 [==============================] - 0s 11ms/step - loss: 1.7733e-10 - val_loss: 2.1805e-11\n",
      "Epoch 77/80\n",
      "3/3 [==============================] - 0s 10ms/step - loss: 1.1193e-10 - val_loss: 6.3934e-12\n",
      "Epoch 78/80\n",
      "3/3 [==============================] - 0s 11ms/step - loss: 9.6290e-11 - val_loss: 1.2914e-11\n",
      "Epoch 79/80\n"
     ]
    },
    {
     "name": "stdout",
     "output_type": "stream",
     "text": [
      "3/3 [==============================] - 0s 10ms/step - loss: 7.8742e-11 - val_loss: 2.0033e-11\n",
      "Epoch 80/80\n",
      "3/3 [==============================] - 0s 10ms/step - loss: 6.3785e-11 - val_loss: 1.3344e-11\n"
     ]
    }
   ],
   "source": [
    "# train the model\n",
    "# X:학습데이터, Y:정답데이터, epochs=80, validation_data:검증 데이터 \n",
    "r = model.fit(X[:-N//2], Y[:-N//2], epochs=80, validation_data=(X[-N//2:], Y[-N//2:]))"
   ]
  },
  {
   "cell_type": "code",
   "execution_count": 11,
   "id": "2603d315",
   "metadata": {},
   "outputs": [
    {
     "data": {
      "text/plain": [
       "<matplotlib.legend.Legend at 0x7fddd1b94af0>"
      ]
     },
     "execution_count": 11,
     "metadata": {},
     "output_type": "execute_result"
    },
    {
     "data": {
      "image/png": "[encoded data removed]",
      "text/plain": [
       "<Figure size 432x288 with 1 Axes>"
      ]
     },
     "metadata": {
      "needs_background": "light"
     },
     "output_type": "display_data"
    }
   ],
   "source": [
    "plt.plot(r.history['loss'], label='loss')\n",
    "plt.plot(r.history['val_loss'], label='val_loss')\n",
    "plt.legend()"
   ]
  },
  {
   "cell_type": "markdown",
   "id": "43580146",
   "metadata": {},
   "source": [
    "### \"Wrong\" forecast usring true targets"
   ]
  },
  {
   "cell_type": "code",
   "execution_count": 12,
   "id": "cbc12da3",
   "metadata": {},
   "outputs": [],
   "source": [
    "validation_target = Y[-N//2:]\n",
    "validation_predictions = []\n",
    "\n",
    "i = -N//2 \n",
    "while len(validation_predictions) < len(validation_target):\n",
    "    p = model.predict(X[i].reshape(1, -1))[0,0] # 1x1 array -> scalar\n",
    "    i += 1\n",
    "    \n",
    "    validation_predictions.append(p)"
   ]
  },
  {
   "cell_type": "code",
   "execution_count": 13,
   "id": "4690175a",
   "metadata": {},
   "outputs": [
    {
     "data": {
      "text/plain": [
       "<matplotlib.legend.Legend at 0x7fdda311a2b0>"
      ]
     },
     "execution_count": 13,
     "metadata": {},
     "output_type": "execute_result"
    },
    {
     "data": {
      "image/png": "[encoded data removed]",
      "text/plain": [
       "<Figure size 432x288 with 1 Axes>"
      ]
     },
     "metadata": {
      "needs_background": "light"
     },
     "output_type": "display_data"
    }
   ],
   "source": [
    "plt.plot(validation_target, label='forecast_target')\n",
    "plt.plot(validation_predictions, label='forecast_prediction')\n",
    "plt.legend()"
   ]
  },
  {
   "cell_type": "code",
   "execution_count": 14,
   "id": "5b6a4582",
   "metadata": {},
   "outputs": [],
   "source": [
    "validation_target = Y[-N//2:]\n",
    "validation_predictions = []\n",
    "\n",
    "# last train input \n",
    "last_x = X[-N//2]"
   ]
  },
  {
   "cell_type": "code",
   "execution_count": 15,
   "id": "cad22ca8",
   "metadata": {},
   "outputs": [
    {
     "name": "stdout",
     "output_type": "stream",
     "text": [
      "95\n",
      "[-0.07515112 -0.17432678 -0.27176063 -0.36647913 -0.45753589 -0.54402111\n",
      " -0.62507065 -0.69987469 -0.76768581 -0.82782647]\n"
     ]
    }
   ],
   "source": [
    "print(len(validation_target))\n",
    "print(last_x)"
   ]
  },
  {
   "cell_type": "code",
   "execution_count": 16,
   "id": "8bc94358",
   "metadata": {},
   "outputs": [
    {
     "name": "stdout",
     "output_type": "stream",
     "text": [
      "[[-0.07515112 -0.17432678 -0.27176063 -0.36647913 -0.45753589 -0.54402111\n",
      "  -0.62507065 -0.69987469 -0.76768581 -0.82782647]]\n"
     ]
    }
   ],
   "source": [
    "print(last_x.reshape(1, -1))"
   ]
  },
  {
   "cell_type": "code",
   "execution_count": 17,
   "id": "1c718faf",
   "metadata": {},
   "outputs": [
    {
     "name": "stdout",
     "output_type": "stream",
     "text": [
      "-0.8796975\n"
     ]
    }
   ],
   "source": [
    "print(model.predict(last_x.reshape(1, -1))[0,0])"
   ]
  },
  {
   "cell_type": "code",
   "execution_count": 18,
   "id": "67bb9e1b",
   "metadata": {},
   "outputs": [],
   "source": [
    "while len(validation_predictions) < len(validation_target):\n",
    "    p = model.predict(last_x.reshape(1, -1))[0,0] # 1x1 array -> scalar\n",
    "    validation_predictions.append(p)\n",
    "    \n",
    "    last_x = np.roll(last_x, -1)\n",
    "    last_x[-1] = p"
   ]
  },
  {
   "cell_type": "code",
   "execution_count": 19,
   "id": "4939b28c",
   "metadata": {},
   "outputs": [
    {
     "data": {
      "text/plain": [
       "<matplotlib.legend.Legend at 0x7fddc1e78d30>"
      ]
     },
     "execution_count": 19,
     "metadata": {},
     "output_type": "execute_result"
    },
    {
     "data": {
      "image/png": "[encoded data removed]",
      "text/plain": [
       "<Figure size 432x288 with 1 Axes>"
      ]
     },
     "metadata": {
      "needs_background": "light"
     },
     "output_type": "display_data"
    }
   ],
   "source": [
    "plt.plot(validation_target, label='forecast_target')\n",
    "plt.plot(validation_predictions, label='forecast_prediction')\n",
    "plt.legend()"
   ]
  },
  {
   "cell_type": "markdown",
   "id": "db832970",
   "metadata": {},
   "source": [
    "### Noise examples"
   ]
  },
  {
   "cell_type": "code",
   "execution_count": 20,
   "id": "2485d7d1",
   "metadata": {},
   "outputs": [
    {
     "data": {
      "image/png": "[encoded data removed]",
      "text/plain": [
       "<Figure size 432x288 with 1 Axes>"
      ]
     },
     "metadata": {
      "needs_background": "light"
     },
     "output_type": "display_data"
    }
   ],
   "source": [
    "series = np.sin(0.1 * np.arange(200)) + np.random.randn(200) * 0.1\n",
    "\n",
    "plt.plot(series)\n",
    "plt.show()"
   ]
  },
  {
   "cell_type": "code",
   "execution_count": 21,
   "id": "47dbd052",
   "metadata": {},
   "outputs": [],
   "source": [
    "T = 10\n",
    "X = []\n",
    "Y = []\n",
    "for t in range(len(series) - T):\n",
    "    x = series[t : t+T]\n",
    "    X.append(x)\n",
    "    y = series[t+T]\n",
    "    Y.append(y)"
   ]
  },
  {
   "cell_type": "code",
   "execution_count": 22,
   "id": "fdd7c61d",
   "metadata": {},
   "outputs": [
    {
     "name": "stdout",
     "output_type": "stream",
     "text": [
      "X.shape:(190, 10), Y.shape:(190,), N.length:190\n"
     ]
    }
   ],
   "source": [
    "X = np.array(X).reshape(-1 ,T)\n",
    "Y = np.array(Y)\n",
    "N = len(X)\n",
    "print(f\"X.shape:{X.shape}, Y.shape:{Y.shape}, N.length:{N}\")"
   ]
  },
  {
   "cell_type": "code",
   "execution_count": 23,
   "id": "75a9ef3c",
   "metadata": {},
   "outputs": [
    {
     "name": "stderr",
     "output_type": "stream",
     "text": [
      "/opt/anaconda3/lib/python3.8/site-packages/keras/optimizer_v2/adam.py:105: UserWarning: The `lr` argument is deprecated, use `learning_rate` instead.\n",
      "  super(Adam, self).__init__(name, **kwargs)\n"
     ]
    }
   ],
   "source": [
    "i = Input(shape=(T,))\n",
    "x = Dense(1)(i)\n",
    "model = Model(i, x)\n",
    "model.compile(loss='mse', optimizer=Adam(lr=0.1))"
   ]
  },
  {
   "cell_type": "code",
   "execution_count": 24,
   "id": "0b11c75f",
   "metadata": {},
   "outputs": [
    {
     "name": "stdout",
     "output_type": "stream",
     "text": [
      "Epoch 1/80\n",
      "3/3 [==============================] - 0s 39ms/step - loss: 0.8947 - val_loss: 0.1898\n",
      "Epoch 2/80\n",
      "3/3 [==============================] - 0s 10ms/step - loss: 0.4507 - val_loss: 0.4408\n",
      "Epoch 3/80\n",
      "3/3 [==============================] - 0s 10ms/step - loss: 0.2599 - val_loss: 0.0519\n",
      "Epoch 4/80\n",
      "3/3 [==============================] - 0s 12ms/step - loss: 0.1353 - val_loss: 0.1951\n",
      "Epoch 5/80\n",
      "3/3 [==============================] - 0s 12ms/step - loss: 0.2259 - val_loss: 0.0761\n",
      "Epoch 6/80\n",
      "3/3 [==============================] - 0s 13ms/step - loss: 0.0629 - val_loss: 0.0501\n",
      "Epoch 7/80\n",
      "3/3 [==============================] - 0s 13ms/step - loss: 0.1004 - val_loss: 0.0866\n",
      "Epoch 8/80\n",
      "3/3 [==============================] - 0s 12ms/step - loss: 0.0934 - val_loss: 0.0301\n",
      "Epoch 9/80\n",
      "3/3 [==============================] - 0s 14ms/step - loss: 0.0429 - val_loss: 0.0687\n",
      "Epoch 10/80\n",
      "3/3 [==============================] - 0s 12ms/step - loss: 0.0680 - val_loss: 0.0397\n",
      "Epoch 11/80\n",
      "3/3 [==============================] - 0s 14ms/step - loss: 0.0327 - val_loss: 0.0287\n",
      "Epoch 12/80\n",
      "3/3 [==============================] - 0s 15ms/step - loss: 0.0411 - val_loss: 0.0417\n",
      "Epoch 13/80\n",
      "3/3 [==============================] - 0s 15ms/step - loss: 0.0398 - val_loss: 0.0240\n",
      "Epoch 14/80\n",
      "3/3 [==============================] - 0s 14ms/step - loss: 0.0307 - val_loss: 0.0330\n",
      "Epoch 15/80\n",
      "3/3 [==============================] - 0s 14ms/step - loss: 0.0375 - val_loss: 0.0272\n",
      "Epoch 16/80\n",
      "3/3 [==============================] - 0s 14ms/step - loss: 0.0298 - val_loss: 0.0253\n",
      "Epoch 17/80\n",
      "3/3 [==============================] - 0s 14ms/step - loss: 0.0324 - val_loss: 0.0241\n",
      "Epoch 18/80\n",
      "3/3 [==============================] - 0s 13ms/step - loss: 0.0269 - val_loss: 0.0235\n",
      "Epoch 19/80\n",
      "3/3 [==============================] - 0s 12ms/step - loss: 0.0272 - val_loss: 0.0250\n",
      "Epoch 20/80\n",
      "3/3 [==============================] - 0s 14ms/step - loss: 0.0274 - val_loss: 0.0219\n",
      "Epoch 21/80\n",
      "3/3 [==============================] - 0s 14ms/step - loss: 0.0254 - val_loss: 0.0221\n",
      "Epoch 22/80\n",
      "3/3 [==============================] - 0s 12ms/step - loss: 0.0261 - val_loss: 0.0213\n",
      "Epoch 23/80\n",
      "3/3 [==============================] - 0s 11ms/step - loss: 0.0253 - val_loss: 0.0219\n",
      "Epoch 24/80\n",
      "3/3 [==============================] - 0s 13ms/step - loss: 0.0250 - val_loss: 0.0211\n",
      "Epoch 25/80\n",
      "3/3 [==============================] - 0s 15ms/step - loss: 0.0238 - val_loss: 0.0205\n",
      "Epoch 26/80\n",
      "3/3 [==============================] - 0s 14ms/step - loss: 0.0242 - val_loss: 0.0203\n",
      "Epoch 27/80\n",
      "3/3 [==============================] - 0s 14ms/step - loss: 0.0245 - val_loss: 0.0206\n",
      "Epoch 28/80\n",
      "3/3 [==============================] - 0s 13ms/step - loss: 0.0235 - val_loss: 0.0198\n",
      "Epoch 29/80\n",
      "3/3 [==============================] - 0s 14ms/step - loss: 0.0236 - val_loss: 0.0196\n",
      "Epoch 30/80\n",
      "3/3 [==============================] - 0s 13ms/step - loss: 0.0232 - val_loss: 0.0195\n",
      "Epoch 31/80\n",
      "3/3 [==============================] - 0s 12ms/step - loss: 0.0225 - val_loss: 0.0194\n",
      "Epoch 32/80\n",
      "3/3 [==============================] - 0s 15ms/step - loss: 0.0220 - val_loss: 0.0192\n",
      "Epoch 33/80\n",
      "3/3 [==============================] - 0s 15ms/step - loss: 0.0215 - val_loss: 0.0187\n",
      "Epoch 34/80\n",
      "3/3 [==============================] - 0s 13ms/step - loss: 0.0216 - val_loss: 0.0186\n",
      "Epoch 35/80\n",
      "3/3 [==============================] - 0s 15ms/step - loss: 0.0210 - val_loss: 0.0183\n",
      "Epoch 36/80\n",
      "3/3 [==============================] - 0s 15ms/step - loss: 0.0209 - val_loss: 0.0182\n",
      "Epoch 37/80\n",
      "3/3 [==============================] - 0s 15ms/step - loss: 0.0207 - val_loss: 0.0182\n",
      "Epoch 38/80\n",
      "3/3 [==============================] - 0s 13ms/step - loss: 0.0203 - val_loss: 0.0179\n",
      "Epoch 39/80\n",
      "3/3 [==============================] - 0s 14ms/step - loss: 0.0204 - val_loss: 0.0177\n",
      "Epoch 40/80\n",
      "3/3 [==============================] - 0s 12ms/step - loss: 0.0196 - val_loss: 0.0177\n",
      "Epoch 41/80\n",
      "3/3 [==============================] - 0s 11ms/step - loss: 0.0199 - val_loss: 0.0175\n",
      "Epoch 42/80\n",
      "3/3 [==============================] - 0s 13ms/step - loss: 0.0194 - val_loss: 0.0179\n",
      "Epoch 43/80\n",
      "3/3 [==============================] - 0s 15ms/step - loss: 0.0194 - val_loss: 0.0171\n",
      "Epoch 44/80\n",
      "3/3 [==============================] - 0s 11ms/step - loss: 0.0193 - val_loss: 0.0171\n",
      "Epoch 45/80\n",
      "3/3 [==============================] - 0s 10ms/step - loss: 0.0189 - val_loss: 0.0169\n",
      "Epoch 46/80\n",
      "3/3 [==============================] - 0s 12ms/step - loss: 0.0184 - val_loss: 0.0167\n",
      "Epoch 47/80\n",
      "3/3 [==============================] - 0s 11ms/step - loss: 0.0181 - val_loss: 0.0167\n",
      "Epoch 48/80\n",
      "3/3 [==============================] - 0s 11ms/step - loss: 0.0181 - val_loss: 0.0171\n",
      "Epoch 49/80\n",
      "3/3 [==============================] - 0s 12ms/step - loss: 0.0180 - val_loss: 0.0165\n",
      "Epoch 50/80\n",
      "3/3 [==============================] - 0s 12ms/step - loss: 0.0184 - val_loss: 0.0164\n",
      "Epoch 51/80\n",
      "3/3 [==============================] - 0s 13ms/step - loss: 0.0186 - val_loss: 0.0174\n",
      "Epoch 52/80\n",
      "3/3 [==============================] - 0s 12ms/step - loss: 0.0178 - val_loss: 0.0166\n",
      "Epoch 53/80\n",
      "3/3 [==============================] - 0s 11ms/step - loss: 0.0182 - val_loss: 0.0161\n",
      "Epoch 54/80\n",
      "3/3 [==============================] - 0s 14ms/step - loss: 0.0169 - val_loss: 0.0176\n",
      "Epoch 55/80\n",
      "3/3 [==============================] - 0s 12ms/step - loss: 0.0176 - val_loss: 0.0159\n",
      "Epoch 56/80\n",
      "3/3 [==============================] - 0s 11ms/step - loss: 0.0176 - val_loss: 0.0161\n",
      "Epoch 57/80\n",
      "3/3 [==============================] - 0s 10ms/step - loss: 0.0167 - val_loss: 0.0170\n",
      "Epoch 58/80\n",
      "3/3 [==============================] - 0s 13ms/step - loss: 0.0175 - val_loss: 0.0159\n",
      "Epoch 59/80\n",
      "3/3 [==============================] - 0s 13ms/step - loss: 0.0160 - val_loss: 0.0161\n",
      "Epoch 60/80\n",
      "3/3 [==============================] - 0s 11ms/step - loss: 0.0170 - val_loss: 0.0159\n",
      "Epoch 61/80\n",
      "3/3 [==============================] - 0s 10ms/step - loss: 0.0171 - val_loss: 0.0174\n",
      "Epoch 62/80\n",
      "3/3 [==============================] - 0s 16ms/step - loss: 0.0162 - val_loss: 0.0160\n",
      "Epoch 63/80\n",
      "3/3 [==============================] - 0s 12ms/step - loss: 0.0165 - val_loss: 0.0156\n",
      "Epoch 64/80\n",
      "3/3 [==============================] - 0s 11ms/step - loss: 0.0160 - val_loss: 0.0164\n",
      "Epoch 65/80\n",
      "3/3 [==============================] - 0s 12ms/step - loss: 0.0168 - val_loss: 0.0158\n",
      "Epoch 66/80\n",
      "3/3 [==============================] - 0s 13ms/step - loss: 0.0169 - val_loss: 0.0163\n",
      "Epoch 67/80\n",
      "3/3 [==============================] - 0s 13ms/step - loss: 0.0154 - val_loss: 0.0156\n",
      "Epoch 68/80\n",
      "3/3 [==============================] - 0s 12ms/step - loss: 0.0156 - val_loss: 0.0155\n",
      "Epoch 69/80\n",
      "3/3 [==============================] - 0s 23ms/step - loss: 0.0160 - val_loss: 0.0157\n",
      "Epoch 70/80\n",
      "3/3 [==============================] - 0s 11ms/step - loss: 0.0153 - val_loss: 0.0155\n",
      "Epoch 71/80\n",
      "3/3 [==============================] - 0s 10ms/step - loss: 0.0155 - val_loss: 0.0155\n",
      "Epoch 72/80\n",
      "3/3 [==============================] - 0s 10ms/step - loss: 0.0149 - val_loss: 0.0163\n",
      "Epoch 73/80\n",
      "3/3 [==============================] - 0s 11ms/step - loss: 0.0154 - val_loss: 0.0158\n",
      "Epoch 74/80\n",
      "3/3 [==============================] - 0s 10ms/step - loss: 0.0148 - val_loss: 0.0155\n",
      "Epoch 75/80\n",
      "3/3 [==============================] - 0s 10ms/step - loss: 0.0150 - val_loss: 0.0156\n",
      "Epoch 76/80\n",
      "3/3 [==============================] - 0s 12ms/step - loss: 0.0152 - val_loss: 0.0159\n",
      "Epoch 77/80\n",
      "3/3 [==============================] - 0s 10ms/step - loss: 0.0153 - val_loss: 0.0156\n",
      "Epoch 78/80\n",
      "3/3 [==============================] - 0s 11ms/step - loss: 0.0148 - val_loss: 0.0160\n",
      "Epoch 79/80\n",
      "3/3 [==============================] - 0s 10ms/step - loss: 0.0151 - val_loss: 0.0158\n",
      "Epoch 80/80\n",
      "3/3 [==============================] - 0s 13ms/step - loss: 0.0148 - val_loss: 0.0157\n"
     ]
    }
   ],
   "source": [
    "r = model.fit(X[:-N//2], Y[:-N//2], epochs=80, validation_data=(X[-N//2:], Y[-N//2:]))"
   ]
  },
  {
   "cell_type": "code",
   "execution_count": 25,
   "id": "f5b6c4b7",
   "metadata": {},
   "outputs": [
    {
     "data": {
      "text/plain": [
       "<matplotlib.legend.Legend at 0x7fdda3011fa0>"
      ]
     },
     "execution_count": 25,
     "metadata": {},
     "output_type": "execute_result"
    },
    {
     "data": {
      "image/png": "[encoded data removed]",
      "text/plain": [
       "<Figure size 432x288 with 1 Axes>"
      ]
     },
     "metadata": {
      "needs_background": "light"
     },
     "output_type": "display_data"
    }
   ],
   "source": [
    "plt.plot(r.history['loss'], label='loss')\n",
    "plt.plot(r.history['val_loss'], label='val_loss')\n",
    "plt.legend()"
   ]
  },
  {
   "cell_type": "code",
   "execution_count": 26,
   "id": "7542402e",
   "metadata": {},
   "outputs": [],
   "source": [
    "validation_target = Y[-N//2:]\n",
    "validation_predictions = []\n",
    "i = -N//2\n",
    "\n",
    "while len(validation_predictions) < len(validation_target):\n",
    "    p = model.predict(X[i].reshape(1, -1))[0,0]\n",
    "    i += 1\n",
    "    \n",
    "    validation_predictions.append(p)"
   ]
  },
  {
   "cell_type": "code",
   "execution_count": 27,
   "id": "cbecd895",
   "metadata": {},
   "outputs": [
    {
     "data": {
      "text/plain": [
       "<matplotlib.legend.Legend at 0x7fddc1e30f10>"
      ]
     },
     "execution_count": 27,
     "metadata": {},
     "output_type": "execute_result"
    },
    {
     "data": {
      "image/png": "[encoded data removed]",
      "text/plain": [
       "<Figure size 432x288 with 1 Axes>"
      ]
     },
     "metadata": {
      "needs_background": "light"
     },
     "output_type": "display_data"
    }
   ],
   "source": [
    "plt.plot(validation_target, label='forecast_target')\n",
    "plt.plot(validation_predictions, label='forecast_predictions')\n",
    "plt.legend()"
   ]
  },
  {
   "cell_type": "code",
   "execution_count": 28,
   "id": "0ddd42e7",
   "metadata": {},
   "outputs": [],
   "source": [
    "validation_target = Y[-N//2:]\n",
    "validation_predictions = []\n",
    "\n",
    "last_x = X[-N//2]\n",
    "while len(validation_predictions) < len(validation_target):\n",
    "    p = model.predict(last_x.reshape(1, -1))[0,0] # 1x1 array -> scalar\n",
    "    validation_predictions.append(p)\n",
    "    \n",
    "    last_x = np.roll(last_x, -1)\n",
    "    last_x[-1] = p"
   ]
  },
  {
   "cell_type": "code",
   "execution_count": 29,
   "id": "c314fcf8",
   "metadata": {},
   "outputs": [
    {
     "data": {
      "text/plain": [
       "<matplotlib.legend.Legend at 0x7fdd7031be50>"
      ]
     },
     "execution_count": 29,
     "metadata": {},
     "output_type": "execute_result"
    },
    {
     "data": {
      "image/png": "[encoded data removed]",
      "text/plain": [
       "<Figure size 432x288 with 1 Axes>"
      ]
     },
     "metadata": {
      "needs_background": "light"
     },
     "output_type": "display_data"
    }
   ],
   "source": [
    "plt.plot(validation_target, label='forecast_target')\n",
    "plt.plot(validation_predictions, label='forecast_predictions')\n",
    "plt.legend()"
   ]
  },
  {
   "cell_type": "code",
   "execution_count": 30,
   "id": "6be9e735",
   "metadata": {},
   "outputs": [
    {
     "name": "stdout",
     "output_type": "stream",
     "text": [
      "[-0.13881749 -0.08889694 -0.03796599  0.01353467  0.06516848  0.1165035\n",
      "  0.16711631  0.21659559  0.264543    0.31057608]\n"
     ]
    }
   ],
   "source": [
    "print(last_x)"
   ]
  },
  {
   "cell_type": "code",
   "execution_count": null,
   "id": "43ab92c6",
   "metadata": {},
   "outputs": [],
   "source": []
  }
 ],
 "metadata": {
  "kernelspec": {
   "display_name": "Python 3 (ipykernel)",
   "language": "python",
   "name": "python3"
  },
  "language_info": {
   "codemirror_mode": {
    "name": "ipython",
    "version": 3
   },
   "file_extension": ".py",
   "mimetype": "text/x-python",
   "name": "python",
   "nbconvert_exporter": "python",
   "pygments_lexer": "ipython3",
   "version": "3.8.12"
  }
 },
 "nbformat": 4,
 "nbformat_minor": 5
}
